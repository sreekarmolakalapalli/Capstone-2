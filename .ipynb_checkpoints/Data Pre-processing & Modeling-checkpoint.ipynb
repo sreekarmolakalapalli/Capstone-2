{
 "cells": [
  {
   "cell_type": "code",
   "execution_count": 1,
   "metadata": {},
   "outputs": [],
   "source": [
    "import pandas as pd\n",
    "from collections import defaultdict\n",
    "from sklearn.metrics import classification_report, confusion_matrix\n",
    "from sklearn.model_selection import train_test_split \n",
    "from sklearn.utils import class_weight\n",
    "import numpy as np\n",
    "import matplotlib.pyplot as plt\n",
    "import seaborn as sns\n",
    "from transformers import BertModel, BertTokenizer, AdamW, get_linear_schedule_with_warmup\n",
    "import torch\n",
    "from torch import nn, optim\n",
    "from torch.nn import functional as F\n",
    "from torch.utils.data import Dataset, DataLoader\n",
    "from textwrap import wrap\n",
    "import tweepy\n",
    "from tweepy import OAuthHandler\n",
    "import re\n",
    "import preprocessor as p"
   ]
  },
  {
   "cell_type": "code",
   "execution_count": 2,
   "metadata": {},
   "outputs": [
    {
     "data": {
      "text/html": [
       "<div>\n",
       "<style scoped>\n",
       "    .dataframe tbody tr th:only-of-type {\n",
       "        vertical-align: middle;\n",
       "    }\n",
       "\n",
       "    .dataframe tbody tr th {\n",
       "        vertical-align: top;\n",
       "    }\n",
       "\n",
       "    .dataframe thead th {\n",
       "        text-align: right;\n",
       "    }\n",
       "</style>\n",
       "<table border=\"1\" class=\"dataframe\">\n",
       "  <thead>\n",
       "    <tr style=\"text-align: right;\">\n",
       "      <th></th>\n",
       "      <th>coachella_sentiment</th>\n",
       "      <th>text</th>\n",
       "      <th>polarity</th>\n",
       "      <th>clean_text</th>\n",
       "    </tr>\n",
       "  </thead>\n",
       "  <tbody>\n",
       "    <tr>\n",
       "      <th>0</th>\n",
       "      <td>positive</td>\n",
       "      <td>#Coachella2015 tickets selling out in less tha...</td>\n",
       "      <td>2</td>\n",
       "      <td>Coachella tickets selling out in less than min...</td>\n",
       "    </tr>\n",
       "    <tr>\n",
       "      <th>1</th>\n",
       "      <td>positive</td>\n",
       "      <td>RT @sudsybuddy: WAIT THIS IS ABSOLUTE FIRE _Ã...</td>\n",
       "      <td>2</td>\n",
       "      <td>WAIT THIS IS ABSOLUTE FIRE Coachella</td>\n",
       "    </tr>\n",
       "    <tr>\n",
       "      <th>2</th>\n",
       "      <td>positive</td>\n",
       "      <td>#Coachella2015 #VIP passes secured! See you th...</td>\n",
       "      <td>2</td>\n",
       "      <td>Coachella VIP passes secured! See you there bi...</td>\n",
       "    </tr>\n",
       "    <tr>\n",
       "      <th>3</th>\n",
       "      <td>positive</td>\n",
       "      <td>PhillyÂÃÂªs @warondrugsjams will play #Coach...</td>\n",
       "      <td>2</td>\n",
       "      <td>Phillys will play Coachella amp GovBall ! Watc...</td>\n",
       "    </tr>\n",
       "    <tr>\n",
       "      <th>4</th>\n",
       "      <td>positive</td>\n",
       "      <td>If briana and her mom out to #Coachella2015  i...</td>\n",
       "      <td>2</td>\n",
       "      <td>If briana and her mom out to Coachella im out ...</td>\n",
       "    </tr>\n",
       "    <tr>\n",
       "      <th>...</th>\n",
       "      <td>...</td>\n",
       "      <td>...</td>\n",
       "      <td>...</td>\n",
       "      <td>...</td>\n",
       "    </tr>\n",
       "    <tr>\n",
       "      <th>3759</th>\n",
       "      <td>negative</td>\n",
       "      <td>.@stromae at #coachella2015 is literally the o...</td>\n",
       "      <td>0</td>\n",
       "      <td>. at coachella is literally the only reason i ...</td>\n",
       "    </tr>\n",
       "    <tr>\n",
       "      <th>3760</th>\n",
       "      <td>negative</td>\n",
       "      <td>Anyone else not completely sold? #Coachella201...</td>\n",
       "      <td>0</td>\n",
       "      <td>Anyone else not completely sold? Coachella</td>\n",
       "    </tr>\n",
       "    <tr>\n",
       "      <th>3761</th>\n",
       "      <td>negative</td>\n",
       "      <td>Recycled as fuck #Coachella2015 #Coachella htt...</td>\n",
       "      <td>0</td>\n",
       "      <td>Recycled as fuck Coachella Coachella</td>\n",
       "    </tr>\n",
       "    <tr>\n",
       "      <th>3762</th>\n",
       "      <td>negative</td>\n",
       "      <td>Line up out already or is it fake like every o...</td>\n",
       "      <td>0</td>\n",
       "      <td>Line up out already or is it fake like every o...</td>\n",
       "    </tr>\n",
       "    <tr>\n",
       "      <th>3763</th>\n",
       "      <td>negative</td>\n",
       "      <td>#Coachella2015 is a fersure thing ÂÃ_</td>\n",
       "      <td>0</td>\n",
       "      <td>Coachella is a fersure thing</td>\n",
       "    </tr>\n",
       "  </tbody>\n",
       "</table>\n",
       "<p>3764 rows × 4 columns</p>\n",
       "</div>"
      ],
      "text/plain": [
       "     coachella_sentiment                                               text  \\\n",
       "0               positive  #Coachella2015 tickets selling out in less tha...   \n",
       "1               positive  RT @sudsybuddy: WAIT THIS IS ABSOLUTE FIRE _Ã...   \n",
       "2               positive  #Coachella2015 #VIP passes secured! See you th...   \n",
       "3               positive  PhillyÂÃÂªs @warondrugsjams will play #Coach...   \n",
       "4               positive  If briana and her mom out to #Coachella2015  i...   \n",
       "...                  ...                                                ...   \n",
       "3759            negative  .@stromae at #coachella2015 is literally the o...   \n",
       "3760            negative  Anyone else not completely sold? #Coachella201...   \n",
       "3761            negative  Recycled as fuck #Coachella2015 #Coachella htt...   \n",
       "3762            negative  Line up out already or is it fake like every o...   \n",
       "3763            negative            #Coachella2015 is a fersure thing ÂÃ_   \n",
       "\n",
       "      polarity                                         clean_text  \n",
       "0            2  Coachella tickets selling out in less than min...  \n",
       "1            2               WAIT THIS IS ABSOLUTE FIRE Coachella  \n",
       "2            2  Coachella VIP passes secured! See you there bi...  \n",
       "3            2  Phillys will play Coachella amp GovBall ! Watc...  \n",
       "4            2  If briana and her mom out to Coachella im out ...  \n",
       "...        ...                                                ...  \n",
       "3759         0  . at coachella is literally the only reason i ...  \n",
       "3760         0         Anyone else not completely sold? Coachella  \n",
       "3761         0               Recycled as fuck Coachella Coachella  \n",
       "3762         0  Line up out already or is it fake like every o...  \n",
       "3763         0                       Coachella is a fersure thing  \n",
       "\n",
       "[3764 rows x 4 columns]"
      ]
     },
     "execution_count": 2,
     "metadata": {},
     "output_type": "execute_result"
    }
   ],
   "source": [
    "df = pd.read_csv(\"clean_coachella.csv\", encoding = 'latin', index_col = 0)\n",
    "df"
   ]
  },
  {
   "cell_type": "code",
   "execution_count": 3,
   "metadata": {},
   "outputs": [],
   "source": [
    "# Load tokenizer \n",
    "PRE_TRAINED_MODEL_NAME = 'bert-base-cased'\n",
    "\n",
    "tokenizer = BertTokenizer.from_pretrained(PRE_TRAINED_MODEL_NAME)"
   ]
  },
  {
   "cell_type": "code",
   "execution_count": 4,
   "metadata": {},
   "outputs": [
    {
     "data": {
      "image/png": "[encoded data removed]",
      "text/plain": [
       "<Figure size 432x288 with 1 Axes>"
      ]
     },
     "metadata": {
      "needs_background": "light"
     },
     "output_type": "display_data"
    }
   ],
   "source": [
    "# Most of our tweets have less than 60 tokens so we can set that as our max length\n",
    "token_lens = [len(tokenizer.encode(txt)) for txt in df.clean_text]\n",
    "sns.distplot(token_lens)\n",
    "plt.xlim([0, 64]);\n",
    "plt.xlabel('Token count')\n",
    "plt.show()"
   ]
  },
  {
   "cell_type": "code",
   "execution_count": 5,
   "metadata": {},
   "outputs": [],
   "source": [
    "# We prepare our datasets for BERT by defining a PyTorch Dataset class\n",
    "class TwitterDataset(Dataset):\n",
    "    \n",
    "    def __init__(self, tweets, targets, tokenizer, max_len):\n",
    "        self.tweets = tweets\n",
    "        self.targets = targets\n",
    "        self.tokenizer = tokenizer\n",
    "        self.max_len = max_len\n",
    "        \n",
    "    def __len__(self):\n",
    "        return len(self.tweets)\n",
    "    \n",
    "    def __getitem__(self, item):\n",
    "        tweet = str(self.tweets[item])\n",
    "        target = self.targets[item]\n",
    "        \n",
    "        encoding = self.tokenizer.encode_plus(\n",
    "            tweet,\n",
    "            add_special_tokens=True,\n",
    "            max_length=self.max_len,\n",
    "            return_token_type_ids=False,\n",
    "            pad_to_max_length=True,\n",
    "            return_attention_mask=True,\n",
    "            return_tensors='pt',\n",
    "        )\n",
    "   \n",
    "        return {\n",
    "          'tweet_text': tweet,\n",
    "          'input_ids': encoding['input_ids'].flatten(),\n",
    "          'attention_mask': encoding['attention_mask'].flatten(),\n",
    "          'targets': torch.tensor(target, dtype=torch.long)\n",
    "        }"
   ]
  },
  {
   "cell_type": "code",
   "execution_count": 6,
   "metadata": {},
   "outputs": [],
   "source": [
    "# Create our data loader function\n",
    "\n",
    "def create_data_loader(df, tokenizer, max_len, batch_size):\n",
    "    ds = TwitterDataset(\n",
    "    tweets=df.clean_text.to_numpy(),\n",
    "    targets=df.polarity.to_numpy(),\n",
    "    tokenizer=tokenizer,\n",
    "    max_len=max_len\n",
    "        \n",
    "  )\n",
    "    return DataLoader(\n",
    "    ds,\n",
    "    batch_size=batch_size,\n",
    "  )"
   ]
  },
  {
   "cell_type": "code",
   "execution_count": 7,
   "metadata": {},
   "outputs": [],
   "source": [
    "# Split our dataset into train,test,and cross validation and load them into pytorch datasets \n",
    "df_train, df_test = train_test_split(df,test_size=0.2, random_state = 42)\n",
    "df_val, df_test = train_test_split(df_test,test_size=0.5, random_state = 42)\n",
    "\n",
    "MAX_LEN = 60\n",
    "BATCH_SIZE = 12\n",
    "\n",
    "train_data_loader = create_data_loader(df_train, tokenizer, MAX_LEN, BATCH_SIZE)\n",
    "val_data_loader = create_data_loader(df_val, tokenizer, MAX_LEN, BATCH_SIZE)\n",
    "test_data_loader = create_data_loader(df_test, tokenizer, MAX_LEN, BATCH_SIZE)"
   ]
  },
  {
   "cell_type": "code",
   "execution_count": 8,
   "metadata": {},
   "outputs": [],
   "source": [
    "class SentimentClassifier(nn.Module):\n",
    "    \n",
    "  def __init__(self, n_classes):\n",
    "    super(SentimentClassifier, self).__init__()\n",
    "    self.bert = BertModel.from_pretrained(PRE_TRAINED_MODEL_NAME)\n",
    "    self.drop = nn.Dropout()\n",
    "    self.out = nn.Linear(self.bert.config.hidden_size, n_classes)\n",
    "  def forward(self, input_ids, attention_mask):\n",
    "    _, pooled_output = self.bert(\n",
    "      input_ids=input_ids,\n",
    "      attention_mask=attention_mask\n",
    "    )\n",
    "    output = self.drop(pooled_output)\n",
    "    return self.out(output)"
   ]
  },
  {
   "cell_type": "code",
   "execution_count": 9,
   "metadata": {},
   "outputs": [
    {
     "data": {
      "text/plain": [
       "tensor([[0.6134, 0.2574, 0.1291],\n",
       "        [0.3999, 0.5246, 0.0755],\n",
       "        [0.4506, 0.4291, 0.1203],\n",
       "        [0.4340, 0.4548, 0.1112],\n",
       "        [0.1931, 0.4561, 0.3508],\n",
       "        [0.5165, 0.3425, 0.1410],\n",
       "        [0.4104, 0.3677, 0.2219],\n",
       "        [0.5690, 0.2629, 0.1681],\n",
       "        [0.4679, 0.3056, 0.2265],\n",
       "        [0.2180, 0.5826, 0.1994],\n",
       "        [0.2465, 0.5019, 0.2516],\n",
       "        [0.2424, 0.4639, 0.2937]], grad_fn=<SoftmaxBackward>)"
      ]
     },
     "execution_count": 9,
     "metadata": {},
     "output_type": "execute_result"
    }
   ],
   "source": [
    "class_names = df.coachella_sentiment.unique()[::-1]\n",
    "model = SentimentClassifier(len(class_names))\n",
    "data = next(iter(train_data_loader))\n",
    "input_ids = data['input_ids']\n",
    "attention_mask = data['attention_mask']\n",
    "F.softmax(model(input_ids, attention_mask), dim=1)"
   ]
  },
  {
   "cell_type": "code",
   "execution_count": 10,
   "metadata": {},
   "outputs": [],
   "source": [
    "# Initialize our training parameters\n",
    "EPOCHS = 5\n",
    "\n",
    "optimizer = AdamW(model.parameters(), lr=2e-5, correct_bias=False)\n",
    "total_steps = len(train_data_loader) * EPOCHS\n",
    "\n",
    "scheduler = get_linear_schedule_with_warmup(\n",
    "  optimizer,\n",
    "  num_warmup_steps=0,\n",
    "  num_training_steps=total_steps\n",
    ")\n",
    "\n",
    "loss_fn = nn.CrossEntropyLoss()"
   ]
  },
  {
   "cell_type": "code",
   "execution_count": 11,
   "metadata": {},
   "outputs": [],
   "source": [
    "def train_epoch(\n",
    "  model,\n",
    "  data_loader,\n",
    "  loss_fn,\n",
    "  optimizer,\n",
    "  scheduler,\n",
    "  n_examples\n",
    "):\n",
    "    model = model.train()\n",
    "    \n",
    "    losses = []\n",
    "    correct_predictions = 0\n",
    "    \n",
    "    for d in data_loader:\n",
    "        input_ids = d[\"input_ids\"]\n",
    "        attention_mask = d[\"attention_mask\"]\n",
    "        targets = d[\"targets\"]\n",
    "        \n",
    "        outputs = model(\n",
    "          input_ids=input_ids,\n",
    "          attention_mask=attention_mask\n",
    "        )\n",
    "        \n",
    "        _, preds = torch.max(outputs, dim=1)\n",
    "        loss = loss_fn(outputs, targets)\n",
    "        \n",
    "        correct_predictions += torch.sum(preds == targets)\n",
    "        losses.append(loss.item())\n",
    "        \n",
    "        loss.backward()\n",
    "        nn.utils.clip_grad_norm_(model.parameters(), max_norm=1.0)\n",
    "        optimizer.step()\n",
    "        scheduler.step()\n",
    "        optimizer.zero_grad()\n",
    "        \n",
    "    return correct_predictions.double() / n_examples, np.mean(losses)"
   ]
  },
  {
   "cell_type": "code",
   "execution_count": 12,
   "metadata": {},
   "outputs": [],
   "source": [
    "def eval_model(model, data_loader, loss_fn, n_examples):\n",
    "    model = model.eval()\n",
    "    \n",
    "    losses = []\n",
    "    correct_predictions = 0\n",
    "    \n",
    "    with torch.no_grad():\n",
    "        for d in data_loader:\n",
    "            input_ids = d[\"input_ids\"]\n",
    "            attention_mask = d[\"attention_mask\"]\n",
    "            targets = d[\"targets\"]\n",
    "            \n",
    "            outputs = model(\n",
    "                input_ids=input_ids,\n",
    "                attention_mask=attention_mask\n",
    "              )\n",
    "            \n",
    "            _, preds = torch.max(outputs, dim=1)\n",
    "            \n",
    "            loss = loss_fn(outputs, targets)\n",
    "            \n",
    "            correct_predictions += torch.sum(preds == targets)\n",
    "            losses.append(loss.item())\n",
    "            \n",
    "    return correct_predictions.double() / n_examples, np.mean(losses)"
   ]
  },
  {
   "cell_type": "code",
   "execution_count": 13,
   "metadata": {},
   "outputs": [
    {
     "name": "stdout",
     "output_type": "stream",
     "text": [
      "Epoch 1/5\n",
      "----------\n",
      "Train loss 0.9196283157128262 accuracy 0.5845234141481236\n",
      "Val   loss 0.8324442766606808 accuracy 0.6409574468085106\n",
      "\n",
      "Epoch 2/5\n",
      "----------\n",
      "Train loss 0.7021312635258374 accuracy 0.705745599468615\n",
      "Val   loss 0.8030052720569074 accuracy 0.6728723404255319\n",
      "\n",
      "Epoch 3/5\n",
      "----------\n",
      "Train loss 0.4693490761180085 accuracy 0.8226502822982398\n",
      "Val   loss 0.9136608433909714 accuracy 0.675531914893617\n",
      "\n",
      "Epoch 4/5\n",
      "----------\n",
      "Train loss 0.32478459853960934 accuracy 0.8894055131185653\n",
      "Val   loss 1.018641819478944 accuracy 0.6888297872340425\n",
      "\n",
      "Epoch 5/5\n",
      "----------\n",
      "Train loss 0.25012319019635715 accuracy 0.9169711059448689\n",
      "Val   loss 1.0992481242865324 accuracy 0.6968085106382979\n",
      "\n",
      "Wall time: 1h 8min 53s\n"
     ]
    }
   ],
   "source": [
    "%%time\n",
    "\n",
    "history = defaultdict(list)\n",
    "\n",
    "for epoch in range(EPOCHS):\n",
    "    \n",
    "    print(f'Epoch {epoch + 1}/{EPOCHS}')\n",
    "    print('-' * 10)\n",
    "    \n",
    "    train_acc, train_loss = train_epoch(\n",
    "        model,\n",
    "        train_data_loader,\n",
    "        loss_fn,\n",
    "        optimizer,\n",
    "        scheduler,\n",
    "        len(df_train)\n",
    "        )\n",
    "    \n",
    "    print(f'Train loss {train_loss} accuracy {train_acc}')\n",
    "    \n",
    "    val_acc, val_loss = eval_model(\n",
    "         model,\n",
    "         val_data_loader,\n",
    "         loss_fn,\n",
    "         len(df_val)\n",
    "       )\n",
    "    \n",
    "    print(f'Val   loss {val_loss} accuracy {val_acc}')\n",
    "    print()\n",
    "    \n",
    "    history['train_acc'].append(train_acc)\n",
    "    history['train_loss'].append(train_loss)\n",
    "    history['val_acc'].append(val_acc)\n",
    "    history['val_loss'].append(val_loss)"
   ]
  },
  {
   "cell_type": "code",
   "execution_count": 14,
   "metadata": {},
   "outputs": [
    {
     "data": {
      "image/png": "[encoded data removed]",
      "text/plain": [
       "<Figure size 432x288 with 1 Axes>"
      ]
     },
     "metadata": {
      "needs_background": "light"
     },
     "output_type": "display_data"
    }
   ],
   "source": [
    "plt.plot(history['train_acc'], label='train accuracy')\n",
    "plt.plot(history['val_acc'], label='validation accuracy')\n",
    "plt.title('Training history')\n",
    "plt.ylabel('Accuracy')\n",
    "plt.xlabel('Epoch')\n",
    "plt.legend()\n",
    "plt.ylim([0, 1]);"
   ]
  },
  {
   "cell_type": "code",
   "execution_count": 15,
   "metadata": {},
   "outputs": [
    {
     "name": "stdout",
     "output_type": "stream",
     "text": [
      "Test set accuracy: 0.7161803713527851\n"
     ]
    }
   ],
   "source": [
    "test_acc, _ = eval_model(\n",
    "  model,\n",
    "  test_data_loader,\n",
    "  loss_fn,\n",
    "  len(df_test)\n",
    " )\n",
    "print(f'Test set accuracy: {test_acc.item()}')"
   ]
  },
  {
   "cell_type": "code",
   "execution_count": 16,
   "metadata": {},
   "outputs": [],
   "source": [
    "def get_predictions(model, data_loader):\n",
    "    model = model.eval()\n",
    "    \n",
    "    tweet_texts = []\n",
    "    predictions = []\n",
    "    prediction_probs = []\n",
    "    real_values = []\n",
    "    \n",
    "    with torch.no_grad():\n",
    "        for d in data_loader:\n",
    "            \n",
    "            texts = d[\"tweet_text\"]\n",
    "            input_ids = d[\"input_ids\"]\n",
    "            attention_mask = d[\"attention_mask\"]\n",
    "            targets = d[\"targets\"]\n",
    "            \n",
    "            outputs = model(\n",
    "            input_ids=input_ids,\n",
    "            attention_mask=attention_mask\n",
    "            )\n",
    "            _, preds = torch.max(outputs, dim=1)\n",
    "            \n",
    "            tweet_texts.extend(texts)\n",
    "            predictions.extend(preds)\n",
    "            prediction_probs.extend(outputs)\n",
    "            real_values.extend(targets)\n",
    "            \n",
    "    predictions = torch.stack(predictions)\n",
    "    prediction_probs = torch.stack(prediction_probs)\n",
    "    real_values = torch.stack(real_values)\n",
    "    return tweet_texts, predictions, prediction_probs, real_values"
   ]
  },
  {
   "cell_type": "code",
   "execution_count": 17,
   "metadata": {},
   "outputs": [
    {
     "name": "stdout",
     "output_type": "stream",
     "text": [
      "              precision    recall  f1-score   support\n",
      "\n",
      "    negative       0.49      0.54      0.51        50\n",
      "     neutral       0.59      0.59      0.59        83\n",
      "    positive       0.81      0.80      0.80       244\n",
      "\n",
      "    accuracy                           0.72       377\n",
      "   macro avg       0.63      0.64      0.64       377\n",
      "weighted avg       0.72      0.72      0.72       377\n",
      "\n"
     ]
    }
   ],
   "source": [
    "y_tweet_texts, y_pred, y_pred_probs, y_test = get_predictions(\n",
    "  model,\n",
    "  test_data_loader\n",
    ")\n",
    "print(classification_report(y_test, y_pred, target_names=class_names))"
   ]
  },
  {
   "cell_type": "code",
   "execution_count": 18,
   "metadata": {},
   "outputs": [
    {
     "data": {
      "image/png": "[encoded data removed]",
      "text/plain": [
       "<Figure size 432x288 with 2 Axes>"
      ]
     },
     "metadata": {
      "needs_background": "light"
     },
     "output_type": "display_data"
    }
   ],
   "source": [
    "def show_confusion_matrix(confusion_matrix):\n",
    "    hmap = sns.heatmap(confusion_matrix, annot=True, fmt=\"d\", cmap=\"Blues\")\n",
    "    hmap.yaxis.set_ticklabels(hmap.yaxis.get_ticklabels(), rotation=0, ha='right')\n",
    "    hmap.xaxis.set_ticklabels(hmap.xaxis.get_ticklabels(), rotation=30, ha='right')\n",
    "    plt.ylabel('True sentiment')\n",
    "    plt.xlabel('Predicted sentiment');\n",
    "cm = confusion_matrix(y_test, y_pred)\n",
    "df_cm = pd.DataFrame(cm, index=class_names, columns=class_names)\n",
    "show_confusion_matrix(df_cm)"
   ]
  },
  {
   "cell_type": "markdown",
   "metadata": {},
   "source": [
    "NOW WE USE WEIGHTS TO FIX OUR IMBALANCE IN PREDICTION"
   ]
  },
  {
   "cell_type": "code",
   "execution_count": 19,
   "metadata": {},
   "outputs": [
    {
     "data": {
      "text/plain": [
       "tensor([2.2688, 1.3520, 0.5496])"
      ]
     },
     "execution_count": 19,
     "metadata": {},
     "output_type": "execute_result"
    }
   ],
   "source": [
    "# Figure out class weights for imbalanced dataset\n",
    "class_weights = torch.FloatTensor(class_weight.compute_class_weight('balanced', range(3),df.polarity))\n",
    "class_weights"
   ]
  },
  {
   "cell_type": "code",
   "execution_count": 20,
   "metadata": {},
   "outputs": [],
   "source": [
    "weighted_model = SentimentClassifier(len(class_names))\n",
    "weighted_optimizer = AdamW(weighted_model.parameters(), lr=2e-5, correct_bias=False)\n",
    "weighted_loss_fn = nn.CrossEntropyLoss(weight = class_weights)\n",
    "weighted_scheduler = get_linear_schedule_with_warmup(\n",
    "  weighted_optimizer,\n",
    "  num_warmup_steps=0,\n",
    "  num_training_steps=total_steps\n",
    ")"
   ]
  },
  {
   "cell_type": "code",
   "execution_count": 21,
   "metadata": {},
   "outputs": [
    {
     "name": "stdout",
     "output_type": "stream",
     "text": [
      "Epoch 1/5\n",
      "----------\n",
      "Train loss 1.0178847315301933 accuracy 0.5313849219528396\n",
      "Val   loss 0.9575210819020867 accuracy 0.6329787234042553\n",
      "\n",
      "Epoch 2/5\n",
      "----------\n",
      "Train loss 0.6945516727716324 accuracy 0.7366323480571239\n",
      "Val   loss 1.0365905845537782 accuracy 0.6781914893617021\n",
      "\n",
      "Epoch 3/5\n",
      "----------\n",
      "Train loss 0.43506741151213646 accuracy 0.8565260710727333\n",
      "Val   loss 1.4126005908474326 accuracy 0.7154255319148937\n",
      "\n",
      "Epoch 4/5\n",
      "----------\n",
      "Train loss 0.278813501098286 accuracy 0.9182995682497509\n",
      "Val   loss 1.5765405152924359 accuracy 0.6968085106382979\n",
      "\n",
      "Epoch 5/5\n",
      "----------\n",
      "Train loss 0.19396436798471617 accuracy 0.9442045831949518\n",
      "Val   loss 1.7373418123461306 accuracy 0.699468085106383\n",
      "\n",
      "Wall time: 1h 9min 2s\n"
     ]
    }
   ],
   "source": [
    "%%time\n",
    "\n",
    "history = defaultdict(list)\n",
    "best_accuracy = 0\n",
    "\n",
    "for epoch in range(EPOCHS):\n",
    "    \n",
    "    print(f'Epoch {epoch + 1}/{EPOCHS}')\n",
    "    print('-' * 10)\n",
    "    \n",
    "    train_acc, train_loss = train_epoch(\n",
    "        weighted_model,\n",
    "        train_data_loader,\n",
    "        weighted_loss_fn,\n",
    "        weighted_optimizer,\n",
    "        weighted_scheduler,\n",
    "        len(df_train)\n",
    "        )\n",
    "    \n",
    "    print(f'Train loss {train_loss} accuracy {train_acc}')\n",
    "    \n",
    "    val_acc, val_loss = eval_model(\n",
    "        weighted_model,\n",
    "        val_data_loader,\n",
    "        weighted_loss_fn,\n",
    "         len(df_val)\n",
    "       )\n",
    "    \n",
    "    print(f'Val   loss {val_loss} accuracy {val_acc}')\n",
    "    print()\n",
    "    \n",
    "    history['train_acc'].append(train_acc)\n",
    "    history['train_loss'].append(train_loss)\n",
    "    history['val_acc'].append(val_acc)\n",
    "    history['val_loss'].append(val_loss)\n",
    "    \n",
    "    if val_acc > best_accuracy:\n",
    "        torch.save(weighted_model.state_dict(), 'best_model_state.bin')\n",
    "        best_accuracy = val_acc"
   ]
  },
  {
   "cell_type": "code",
   "execution_count": 22,
   "metadata": {},
   "outputs": [
    {
     "name": "stdout",
     "output_type": "stream",
     "text": [
      "Test set accuracy: 0.713527851458886\n"
     ]
    }
   ],
   "source": [
    "test_acc, _ = eval_model(\n",
    "  weighted_model,\n",
    "  test_data_loader,\n",
    "  weighted_loss_fn,\n",
    "  len(df_test)\n",
    " )\n",
    "print(f'Test set accuracy: {test_acc.item()}')"
   ]
  },
  {
   "cell_type": "code",
   "execution_count": 23,
   "metadata": {},
   "outputs": [
    {
     "name": "stdout",
     "output_type": "stream",
     "text": [
      "              precision    recall  f1-score   support\n",
      "\n",
      "    negative       0.50      0.64      0.56        50\n",
      "     neutral       0.56      0.53      0.54        83\n",
      "    positive       0.82      0.79      0.81       244\n",
      "\n",
      "    accuracy                           0.71       377\n",
      "   macro avg       0.63      0.65      0.64       377\n",
      "weighted avg       0.72      0.71      0.72       377\n",
      "\n"
     ]
    }
   ],
   "source": [
    "y_tweet_texts, y_pred, y_pred_probs, y_test = get_predictions(\n",
    "  weighted_model,\n",
    "  test_data_loader\n",
    ")\n",
    "print(classification_report(y_test, y_pred, target_names=class_names))"
   ]
  },
  {
   "cell_type": "code",
   "execution_count": 24,
   "metadata": {},
   "outputs": [
    {
     "data": {
      "image/png": "[encoded data removed]",
      "text/plain": [
       "<Figure size 432x288 with 2 Axes>"
      ]
     },
     "metadata": {
      "needs_background": "light"
     },
     "output_type": "display_data"
    }
   ],
   "source": [
    "def show_confusion_matrix(confusion_matrix):\n",
    "    hmap = sns.heatmap(confusion_matrix, annot=True, fmt=\"d\", cmap=\"Blues\")\n",
    "    hmap.yaxis.set_ticklabels(hmap.yaxis.get_ticklabels(), rotation=0, ha='right')\n",
    "    hmap.xaxis.set_ticklabels(hmap.xaxis.get_ticklabels(), rotation=30, ha='right')\n",
    "    plt.ylabel('True sentiment')\n",
    "    plt.xlabel('Predicted sentiment');\n",
    "cm = confusion_matrix(y_test, y_pred)\n",
    "df_cm = pd.DataFrame(cm, index=class_names, columns=class_names)\n",
    "show_confusion_matrix(df_cm)"
   ]
  },
  {
   "cell_type": "code",
   "execution_count": 25,
   "metadata": {},
   "outputs": [
    {
     "name": "stdout",
     "output_type": "stream",
     "text": [
      "The lineup for looks horrible. Seriously not one act I either haven't\n",
      "seen or have any interest see'ing. Coachella\n",
      "\n",
      "True sentiment: negative\n"
     ]
    },
    {
     "data": {
      "image/png": "[encoded data removed]",
      "text/plain": [
       "<Figure size 432x288 with 1 Axes>"
      ]
     },
     "metadata": {
      "needs_background": "light"
     },
     "output_type": "display_data"
    }
   ],
   "source": [
    "idx = 12\n",
    "tweet_text = y_tweet_texts[idx]\n",
    "true_sentiment = y_test[idx]\n",
    "pred_df = pd.DataFrame({\n",
    "  'class_names': class_names,\n",
    "  'values': y_pred_probs[idx]\n",
    "})\n",
    "print(\"\\n\".join(wrap(tweet_text)))\n",
    "print()\n",
    "print(f'True sentiment: {class_names[true_sentiment]}')\n",
    "sns.barplot(x='values', y='class_names', data=pred_df, orient='h')\n",
    "plt.ylabel('predicted sentiment')\n",
    "plt.xlabel('probability')\n",
    "plt.xlim([0, 1]);"
   ]
  },
  {
   "cell_type": "code",
   "execution_count": 26,
   "metadata": {
    "scrolled": true
   },
   "outputs": [
    {
     "name": "stdout",
     "output_type": "stream",
     "text": [
      "Sample tweet: I want to go to EDC so bad!\n",
      "Predicted sentiment: positive\n",
      "\n",
      "\n",
      "Sample tweet: I hate the EDC lineup\n",
      "Predicted sentiment: negative\n",
      "\n",
      "\n",
      "Sample tweet: I'm sad EDC is canceled\n",
      "Predicted sentiment: negative\n",
      "\n",
      "\n",
      "Sample tweet: EDC lineup is out\n",
      "Predicted sentiment: neutral\n",
      "\n",
      "\n",
      "Sample tweet: I prefer the EDC lineup over Coachella this year\n",
      "Predicted sentiment: negative\n",
      "\n",
      "\n"
     ]
    }
   ],
   "source": [
    "# some examples using EDC as the festival\n",
    "sample_tweets = ['I want to go to EDC so bad!','I hate the EDC lineup', 'I\\'m sad EDC is canceled', 'EDC lineup is out','I prefer the EDC lineup over Coachella this year']\n",
    "\n",
    "\n",
    "for tweet in sample_tweets:\n",
    "    encoded_tweet = tokenizer.encode_plus(\n",
    "      tweet,\n",
    "      max_length=MAX_LEN,\n",
    "      add_special_tokens=True,\n",
    "      return_token_type_ids=False,\n",
    "      pad_to_max_length=True,\n",
    "      return_attention_mask=True,\n",
    "      return_tensors='pt',\n",
    "    )\n",
    "\n",
    "    input_ids = encoded_tweet['input_ids']\n",
    "    attention_mask = encoded_tweet['attention_mask']\n",
    "    output = weighted_model(input_ids, attention_mask)\n",
    "    _, prediction = torch.max(output, dim=1)\n",
    "    print(f'Sample tweet: {tweet}')\n",
    "    print(f'Predicted sentiment: {class_names[prediction]}')\n",
    "    print('\\n')"
   ]
  },
  {
   "cell_type": "code",
   "execution_count": 27,
   "metadata": {},
   "outputs": [],
   "source": [
    "import config\n",
    "\n",
    "class TwitterClient(object): \n",
    "    ''' \n",
    "    Generic Twitter Class for sentiment analysis. \n",
    "    '''\n",
    "    def __init__(self): \n",
    "        ''' \n",
    "        initialization\n",
    "        '''\n",
    "        # keys and tokens from the Twitter Dev Console \n",
    "        consumer_key = config.consumer_key\n",
    "        consumer_secret = config.consumer_secret\n",
    "        access_token = config.access_token\n",
    "        access_token_secret = config.access_token_secret\n",
    "  \n",
    "        # authentication \n",
    "        try: \n",
    "            # create OAuthHandler object \n",
    "            self.auth = OAuthHandler(consumer_key, consumer_secret) \n",
    "            # set access token and secret \n",
    "            self.auth.set_access_token(access_token, access_token_secret) \n",
    "            # create tweepy API object to fetch tweets \n",
    "            self.api = tweepy.API(self.auth) \n",
    "        except: \n",
    "            print(\"Error: Authentication Failed\") \n",
    "  \n",
    "    def clean_tweet(self, tweet): \n",
    "        ''' \n",
    "        function to clean tweet\n",
    "        '''\n",
    "        p.set_options(p.OPT.URL, p.OPT.EMOJI, p.OPT.NUMBER, p.OPT.SMILEY, p.OPT.RESERVED,p.OPT.MENTION)\n",
    "        return ' '.join(re.sub(\"(?<![\\w\\d])RT(?![\\w\\d])|([^A-Za-z'.!?])\",\" \",p.clean(tweet)).split())\n",
    "  \n",
    "    def get_tweet_sentiment(self, tweet): \n",
    "        ''' \n",
    "        function to classify sentiment of passed tweet \n",
    "        using our model\n",
    "        '''\n",
    "        # use our model to return tweet sentiment prediction\n",
    "        encoded_tweet = tokenizer.encode_plus(\n",
    "            self.clean_tweet(tweet),\n",
    "            max_length=MAX_LEN,\n",
    "            add_special_tokens=True,\n",
    "            return_token_type_ids=False,\n",
    "            pad_to_max_length=True,\n",
    "            return_attention_mask=True,\n",
    "            return_tensors='pt',\n",
    "        )\n",
    "        \n",
    "        input_ids = encoded_tweet['input_ids']\n",
    "        attention_mask = encoded_tweet['attention_mask']\n",
    "        output = weighted_model(input_ids, attention_mask)\n",
    "        _, prediction = torch.max(output, dim=1)\n",
    "        return class_names[prediction]\n",
    "        \n",
    "        \n",
    "    def get_tweets(self, query, count = 10): \n",
    "        ''' \n",
    "        Main function to fetch tweets and parse them. \n",
    "        '''\n",
    "        # empty list to store parsed tweets \n",
    "        tweets = [] \n",
    "  \n",
    "        try: \n",
    "            # call twitter api to fetch tweets \n",
    "            fetched_tweets = self.api.search(q = query, count = count,lang = 'en') \n",
    "  \n",
    "            # parsing tweets one by one \n",
    "            for tweet in fetched_tweets: \n",
    "                # empty dictionary to store required params of a tweet \n",
    "                parsed_tweet = {} \n",
    "  \n",
    "                # saving text of tweet \n",
    "                parsed_tweet['text'] = self.clean_tweet(tweet.text)\n",
    "                # saving sentiment of tweet \n",
    "                parsed_tweet['sentiment'] = self.get_tweet_sentiment(tweet.text) \n",
    "  \n",
    "                # appending parsed tweet to tweets list \n",
    "                if tweet.retweet_count > 0: \n",
    "                    # if tweet has retweets, ensure that it is appended only once \n",
    "                    if parsed_tweet not in tweets: \n",
    "                        tweets.append(parsed_tweet) \n",
    "                else: \n",
    "                    tweets.append(parsed_tweet) \n",
    "  \n",
    "            # return parsed tweets \n",
    "            return tweets \n",
    "  \n",
    "        except tweepy.TweepError as e: \n",
    "            # print error (if any) \n",
    "            print(\"Error : \" + str(e)) "
   ]
  },
  {
   "cell_type": "code",
   "execution_count": 28,
   "metadata": {},
   "outputs": [
    {
     "name": "stdout",
     "output_type": "stream",
     "text": [
      "Positive tweets percentage: 69.23076923076923 %\n",
      "Negative tweets percentage: 10.256410256410257 %\n",
      "Neutral tweets percentage: 20.512820512820515 %\n",
      "\n",
      "\n",
      "Positive tweets:\n",
      "You aren't in Kansas anymore Escape into the beauty of the Emerald City at DFT\n",
      "Prices increase June th at pm CT See you in the Emerald City! Tickets amp Ticket Promise\n",
      "Sent it\n",
      "Told you guys big news was coming! Well be giving a pair of tickets away during the stream! Big sponser from\n",
      "EDC Electric Forest Bass Canyon Dancefestopia and Lost Lands all paid in full whenever festivals happen again I'll be living my life\n",
      "\n",
      "\n",
      "Negative tweets:\n",
      "fuck it full send ???\n",
      "Kansas City Approves Dancefestopia Fest For September\n",
      "Kansas City Approves Dancefestopia Fest For September musicnews\n",
      "Kansas City Approves Dancefestopia Fest For September\n",
      "\n",
      "\n",
      "Neutral tweets:\n",
      "Dont miss our FINAL LIVESTREAM amp you could be one of the two winners of a pair of GA tickets to DANCEFESTOPIA Noma\n",
      "Dancefestopia Giveaway We are giving away FREE GA Tickets To win you must amp Like Tag friend! Foll\n",
      "BREAKING NEWS State and County guidance enables a FULLSEND to DFT . The situation could change however as of y\n",
      "Dont miss our FINAL LIVESTREAM amp you could be one of the two winners of a pair of GA tickets to DANCEFESTOPIA N\n",
      "Kansas City Music Festival Approved to Take Place in September\n"
     ]
    }
   ],
   "source": [
    "api = TwitterClient() \n",
    "\n",
    "tweets = api.get_tweets(query = 'dancefestopia', count = 100) \n",
    "  \n",
    "postweets = [tweet for tweet in tweets if tweet['sentiment'] == 'positive'] \n",
    "print(\"Positive tweets percentage: {} %\".format(100*len(postweets)/len(tweets))) \n",
    "\n",
    "negtweets = [tweet for tweet in tweets if tweet['sentiment'] == 'negative'] \n",
    "print(\"Negative tweets percentage: {} %\".format(100*len(negtweets)/len(tweets))) \n",
    "\n",
    "neutweets = [tweet for tweet in tweets if tweet['sentiment'] == 'neutral'] \n",
    "print(\"Neutral tweets percentage: {} %\".format(100*len(neutweets)/len(tweets))) \n",
    "\n",
    "  \n",
    "print(\"\\n\\nPositive tweets:\") \n",
    "for tweet in postweets[:5]: \n",
    "    print(tweet['text']) \n",
    "\n",
    "print(\"\\n\\nNegative tweets:\") \n",
    "for tweet in negtweets[:5]: \n",
    "    print(tweet['text']) \n",
    "    \n",
    "print(\"\\n\\nNeutral tweets:\") \n",
    "for tweet in neutweets[:5]: \n",
    "    print(tweet['text']) "
   ]
  }
 ],
 "metadata": {
  "kernelspec": {
   "display_name": "Python 3",
   "language": "python",
   "name": "python3"
  },
  "language_info": {
   "codemirror_mode": {
    "name": "ipython",
    "version": 3
   },
   "file_extension": ".py",
   "mimetype": "text/x-python",
   "name": "python",
   "nbconvert_exporter": "python",
   "pygments_lexer": "ipython3",
   "version": "3.7.6"
  }
 },
 "nbformat": 4,
 "nbformat_minor": 4
}
