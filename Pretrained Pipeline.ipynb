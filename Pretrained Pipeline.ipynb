{
 "cells": [
  {
   "cell_type": "code",
   "execution_count": 8,
   "metadata": {},
   "outputs": [],
   "source": [
    "# Import necessary modules\n",
    "\n",
    "import pandas as pd\n",
    "import numpy as np\n",
    "from sklearn.metrics import classification_report, confusion_matrix \n",
    "from transformers import pipeline\n",
    "import seaborn as sns\n",
    "import matplotlib.pyplot as plt"
   ]
  },
  {
   "cell_type": "code",
   "execution_count": 9,
   "metadata": {},
   "outputs": [
    {
     "data": {
      "text/html": [
       "<div>\n",
       "<style scoped>\n",
       "    .dataframe tbody tr th:only-of-type {\n",
       "        vertical-align: middle;\n",
       "    }\n",
       "\n",
       "    .dataframe tbody tr th {\n",
       "        vertical-align: top;\n",
       "    }\n",
       "\n",
       "    .dataframe thead th {\n",
       "        text-align: right;\n",
       "    }\n",
       "</style>\n",
       "<table border=\"1\" class=\"dataframe\">\n",
       "  <thead>\n",
       "    <tr style=\"text-align: right;\">\n",
       "      <th></th>\n",
       "      <th>coachella_sentiment</th>\n",
       "      <th>text</th>\n",
       "      <th>polarity</th>\n",
       "      <th>clean_text</th>\n",
       "    </tr>\n",
       "  </thead>\n",
       "  <tbody>\n",
       "    <tr>\n",
       "      <th>0</th>\n",
       "      <td>positive</td>\n",
       "      <td>#Coachella2015 tickets selling out in less tha...</td>\n",
       "      <td>2</td>\n",
       "      <td>Coachella tickets selling out in less than min...</td>\n",
       "    </tr>\n",
       "    <tr>\n",
       "      <th>1</th>\n",
       "      <td>positive</td>\n",
       "      <td>RT @sudsybuddy: WAIT THIS IS ABSOLUTE FIRE _Ã...</td>\n",
       "      <td>2</td>\n",
       "      <td>WAIT THIS IS ABSOLUTE FIRE Coachella</td>\n",
       "    </tr>\n",
       "    <tr>\n",
       "      <th>2</th>\n",
       "      <td>positive</td>\n",
       "      <td>#Coachella2015 #VIP passes secured! See you th...</td>\n",
       "      <td>2</td>\n",
       "      <td>Coachella VIP passes secured! See you there bi...</td>\n",
       "    </tr>\n",
       "    <tr>\n",
       "      <th>3</th>\n",
       "      <td>positive</td>\n",
       "      <td>PhillyÂÃÂªs @warondrugsjams will play #Coach...</td>\n",
       "      <td>2</td>\n",
       "      <td>Phillys will play Coachella amp GovBall ! Watc...</td>\n",
       "    </tr>\n",
       "    <tr>\n",
       "      <th>4</th>\n",
       "      <td>positive</td>\n",
       "      <td>If briana and her mom out to #Coachella2015  i...</td>\n",
       "      <td>2</td>\n",
       "      <td>If briana and her mom out to Coachella im out ...</td>\n",
       "    </tr>\n",
       "    <tr>\n",
       "      <th>...</th>\n",
       "      <td>...</td>\n",
       "      <td>...</td>\n",
       "      <td>...</td>\n",
       "      <td>...</td>\n",
       "    </tr>\n",
       "    <tr>\n",
       "      <th>3759</th>\n",
       "      <td>negative</td>\n",
       "      <td>.@stromae at #coachella2015 is literally the o...</td>\n",
       "      <td>0</td>\n",
       "      <td>. at coachella is literally the only reason i ...</td>\n",
       "    </tr>\n",
       "    <tr>\n",
       "      <th>3760</th>\n",
       "      <td>negative</td>\n",
       "      <td>Anyone else not completely sold? #Coachella201...</td>\n",
       "      <td>0</td>\n",
       "      <td>Anyone else not completely sold? Coachella</td>\n",
       "    </tr>\n",
       "    <tr>\n",
       "      <th>3761</th>\n",
       "      <td>negative</td>\n",
       "      <td>Recycled as fuck #Coachella2015 #Coachella htt...</td>\n",
       "      <td>0</td>\n",
       "      <td>Recycled as fuck Coachella Coachella</td>\n",
       "    </tr>\n",
       "    <tr>\n",
       "      <th>3762</th>\n",
       "      <td>negative</td>\n",
       "      <td>Line up out already or is it fake like every o...</td>\n",
       "      <td>0</td>\n",
       "      <td>Line up out already or is it fake like every o...</td>\n",
       "    </tr>\n",
       "    <tr>\n",
       "      <th>3763</th>\n",
       "      <td>negative</td>\n",
       "      <td>#Coachella2015 is a fersure thing ÂÃ_</td>\n",
       "      <td>0</td>\n",
       "      <td>Coachella is a fersure thing</td>\n",
       "    </tr>\n",
       "  </tbody>\n",
       "</table>\n",
       "<p>3764 rows × 4 columns</p>\n",
       "</div>"
      ],
      "text/plain": [
       "     coachella_sentiment                                               text  \\\n",
       "0               positive  #Coachella2015 tickets selling out in less tha...   \n",
       "1               positive  RT @sudsybuddy: WAIT THIS IS ABSOLUTE FIRE _Ã...   \n",
       "2               positive  #Coachella2015 #VIP passes secured! See you th...   \n",
       "3               positive  PhillyÂÃÂªs @warondrugsjams will play #Coach...   \n",
       "4               positive  If briana and her mom out to #Coachella2015  i...   \n",
       "...                  ...                                                ...   \n",
       "3759            negative  .@stromae at #coachella2015 is literally the o...   \n",
       "3760            negative  Anyone else not completely sold? #Coachella201...   \n",
       "3761            negative  Recycled as fuck #Coachella2015 #Coachella htt...   \n",
       "3762            negative  Line up out already or is it fake like every o...   \n",
       "3763            negative            #Coachella2015 is a fersure thing ÂÃ_   \n",
       "\n",
       "      polarity                                         clean_text  \n",
       "0            2  Coachella tickets selling out in less than min...  \n",
       "1            2               WAIT THIS IS ABSOLUTE FIRE Coachella  \n",
       "2            2  Coachella VIP passes secured! See you there bi...  \n",
       "3            2  Phillys will play Coachella amp GovBall ! Watc...  \n",
       "4            2  If briana and her mom out to Coachella im out ...  \n",
       "...        ...                                                ...  \n",
       "3759         0  . at coachella is literally the only reason i ...  \n",
       "3760         0         Anyone else not completely sold? Coachella  \n",
       "3761         0               Recycled as fuck Coachella Coachella  \n",
       "3762         0  Line up out already or is it fake like every o...  \n",
       "3763         0                       Coachella is a fersure thing  \n",
       "\n",
       "[3764 rows x 4 columns]"
      ]
     },
     "execution_count": 9,
     "metadata": {},
     "output_type": "execute_result"
    }
   ],
   "source": [
    "# We use our cleaned up dataframe\n",
    "df = pd.read_csv(\"clean_coachella.csv\", encoding = 'latin', index_col = 0)\n",
    "df"
   ]
  },
  {
   "cell_type": "code",
   "execution_count": 10,
   "metadata": {},
   "outputs": [
    {
     "data": {
      "application/vnd.jupyter.widget-view+json": {
       "model_id": "d5e3c4e99aaa4920a3ac6a62440752c7",
       "version_major": 2,
       "version_minor": 0
      },
      "text/plain": [
       "HBox(children=(IntProgress(value=0, description='Downloading', max=230, style=ProgressStyle(description_width=…"
      ]
     },
     "metadata": {},
     "output_type": "display_data"
    },
    {
     "name": "stdout",
     "output_type": "stream",
     "text": [
      "\n"
     ]
    },
    {
     "name": "stderr",
     "output_type": "stream",
     "text": [
      "Couldn't reach server at 'https://s3.amazonaws.com/models.huggingface.co/bert/distilbert-base-uncased-finetuned-sst-2-english-modelcard.json' to download model card file.\n",
      "Creating an empty model card.\n"
     ]
    }
   ],
   "source": [
    "# We import transformer's finetuned sentiment analysis pipeline\n",
    "nlp = pipeline(\"sentiment-analysis\")"
   ]
  },
  {
   "cell_type": "code",
   "execution_count": 11,
   "metadata": {},
   "outputs": [
    {
     "data": {
      "text/html": [
       "<div>\n",
       "<style scoped>\n",
       "    .dataframe tbody tr th:only-of-type {\n",
       "        vertical-align: middle;\n",
       "    }\n",
       "\n",
       "    .dataframe tbody tr th {\n",
       "        vertical-align: top;\n",
       "    }\n",
       "\n",
       "    .dataframe thead th {\n",
       "        text-align: right;\n",
       "    }\n",
       "</style>\n",
       "<table border=\"1\" class=\"dataframe\">\n",
       "  <thead>\n",
       "    <tr style=\"text-align: right;\">\n",
       "      <th></th>\n",
       "      <th>coachella_sentiment</th>\n",
       "      <th>text</th>\n",
       "      <th>polarity</th>\n",
       "      <th>clean_text</th>\n",
       "      <th>pipeline_label</th>\n",
       "      <th>pipeline_score</th>\n",
       "    </tr>\n",
       "  </thead>\n",
       "  <tbody>\n",
       "    <tr>\n",
       "      <th>45</th>\n",
       "      <td>positive</td>\n",
       "      <td>Someone sell me one car camping pass for Coach...</td>\n",
       "      <td>2</td>\n",
       "      <td>Someone sell me one car camping pass for Coach...</td>\n",
       "      <td>negative</td>\n",
       "      <td>0.965715</td>\n",
       "    </tr>\n",
       "    <tr>\n",
       "      <th>1093</th>\n",
       "      <td>positive</td>\n",
       "      <td>Once I saw @FLOSSTRADAMUS and @keysnkrates I w...</td>\n",
       "      <td>2</td>\n",
       "      <td>Once I saw and I was sold Coachella</td>\n",
       "      <td>negative</td>\n",
       "      <td>0.986309</td>\n",
       "    </tr>\n",
       "    <tr>\n",
       "      <th>503</th>\n",
       "      <td>positive</td>\n",
       "      <td>dream coachella ÂÃ·Â¨ÂÃ·Â¨ÂÃ·Â¨ #Coachella ...</td>\n",
       "      <td>2</td>\n",
       "      <td>dream coachella Coachella Coachella</td>\n",
       "      <td>positive</td>\n",
       "      <td>0.997918</td>\n",
       "    </tr>\n",
       "    <tr>\n",
       "      <th>2982</th>\n",
       "      <td>neutral</td>\n",
       "      <td>(Cums) RT @Forever21: The lineup is here! #Coa...</td>\n",
       "      <td>1</td>\n",
       "      <td>Cums The lineup is here! Coachella</td>\n",
       "      <td>neutral</td>\n",
       "      <td>0.610249</td>\n",
       "    </tr>\n",
       "    <tr>\n",
       "      <th>2012</th>\n",
       "      <td>positive</td>\n",
       "      <td>OMG! @coachella looks NUTS for next year!! ahh...</td>\n",
       "      <td>2</td>\n",
       "      <td>OMG! looks NUTS for next year!! ahhhhh! Califo...</td>\n",
       "      <td>neutral</td>\n",
       "      <td>0.667720</td>\n",
       "    </tr>\n",
       "  </tbody>\n",
       "</table>\n",
       "</div>"
      ],
      "text/plain": [
       "     coachella_sentiment                                               text  \\\n",
       "45              positive  Someone sell me one car camping pass for Coach...   \n",
       "1093            positive  Once I saw @FLOSSTRADAMUS and @keysnkrates I w...   \n",
       "503             positive  dream coachella ÂÃ·Â¨ÂÃ·Â¨ÂÃ·Â¨ #Coachella ...   \n",
       "2982             neutral  (Cums) RT @Forever21: The lineup is here! #Coa...   \n",
       "2012            positive  OMG! @coachella looks NUTS for next year!! ahh...   \n",
       "\n",
       "      polarity                                         clean_text  \\\n",
       "45           2  Someone sell me one car camping pass for Coach...   \n",
       "1093         2                Once I saw and I was sold Coachella   \n",
       "503          2                dream coachella Coachella Coachella   \n",
       "2982         1                 Cums The lineup is here! Coachella   \n",
       "2012         2  OMG! looks NUTS for next year!! ahhhhh! Califo...   \n",
       "\n",
       "     pipeline_label  pipeline_score  \n",
       "45         negative        0.965715  \n",
       "1093       negative        0.986309  \n",
       "503        positive        0.997918  \n",
       "2982        neutral        0.610249  \n",
       "2012        neutral        0.667720  "
      ]
     },
     "execution_count": 11,
     "metadata": {},
     "output_type": "execute_result"
    }
   ],
   "source": [
    "# We run each tweet through the pipeline and extract the label and score which we classify into one of our three sentiment classes.\n",
    "# We use 0.95 as a cutoff score because it is \n",
    "abspipeline_label = []\n",
    "pipeline_score = []\n",
    "\n",
    "for tweet in df.clean_text:\n",
    "    sentiment = nlp(tweet)\n",
    "    pipeline_score.append(sentiment[0]['score'])\n",
    "    if sentiment[0]['score'] >= 0.95:\n",
    "        pipeline_label.append(sentiment[0]['label'].lower())\n",
    "    else:\n",
    "        pipeline_label.append('neutral')\n",
    "    \n",
    "df['pipeline_label'] = pipeline_label\n",
    "df['pipeline_score'] = pipeline_score\n",
    "df.sample(5)"
   ]
  },
  {
   "cell_type": "code",
   "execution_count": 12,
   "metadata": {},
   "outputs": [
    {
     "data": {
      "text/plain": [
       "{'negative': {'precision': 0.30125195618153366,\n",
       "  'recall': 0.6962025316455697,\n",
       "  'f1-score': 0.42053522665210274,\n",
       "  'support': 553},\n",
       " 'neutral': {'precision': 0.3160919540229885,\n",
       "  'recall': 0.23706896551724138,\n",
       "  'f1-score': 0.270935960591133,\n",
       "  'support': 928},\n",
       " 'positive': {'precision': 0.7307262569832402,\n",
       "  'recall': 0.5729303547963206,\n",
       "  'f1-score': 0.6422784188558801,\n",
       "  'support': 2283},\n",
       " 'accuracy': 0.5082359192348566,\n",
       " 'macro avg': {'precision': 0.4493567223959208,\n",
       "  'recall': 0.5020672839863772,\n",
       "  'f1-score': 0.44458320203303864,\n",
       "  'support': 3764},\n",
       " 'weighted avg': {'precision': 0.5654021545681346,\n",
       "  'recall': 0.5082359192348566,\n",
       "  'f1-score': 0.5181472322038148,\n",
       "  'support': 3764}}"
      ]
     },
     "execution_count": 12,
     "metadata": {},
     "output_type": "execute_result"
    }
   ],
   "source": [
    "classification_report(df.coachella_sentiment, df.pipeline_label,target_names=['negative','neutral','positive'],output_dict= True)"
   ]
  },
  {
   "cell_type": "code",
   "execution_count": 13,
   "metadata": {},
   "outputs": [
    {
     "data": {
      "image/png": "[encoded data removed]",
      "text/plain": [
       "<Figure size 432x288 with 2 Axes>"
      ]
     },
     "metadata": {
      "needs_background": "light"
     },
     "output_type": "display_data"
    }
   ],
   "source": [
    "# We observe a significant number of tweets that are predicted by negative but actually positive.\n",
    "# This can be attributed to lack of finetuning on specific words or phrases that might appear in our dataset that indicate positive sentiment.\n",
    "cm = confusion_matrix(df.coachella_sentiment, df.pipeline_label)\n",
    "hmap = sns.heatmap(cm, annot=True, fmt=\"d\", cmap=\"Blues\")\n",
    "hmap.yaxis.set_ticklabels(hmap.yaxis.get_ticklabels(), rotation=0, ha='right')\n",
    "hmap.xaxis.set_ticklabels(hmap.xaxis.get_ticklabels(), rotation=30, ha='right')\n",
    "plt.ylabel('True sentiment')\n",
    "plt.xlabel('Predicted sentiment')\n",
    "plt.show()"
   ]
  }
 ],
 "metadata": {
  "kernelspec": {
   "display_name": "Python 3",
   "language": "python",
   "name": "python3"
  },
  "language_info": {
   "codemirror_mode": {
    "name": "ipython",
    "version": 3
   },
   "file_extension": ".py",
   "mimetype": "text/x-python",
   "name": "python",
   "nbconvert_exporter": "python",
   "pygments_lexer": "ipython3",
   "version": "3.7.6"
  }
 },
 "nbformat": 4,
 "nbformat_minor": 4
}
